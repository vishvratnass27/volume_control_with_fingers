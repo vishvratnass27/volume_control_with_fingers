{
 "cells": [
  {
   "cell_type": "code",
   "execution_count": 1,
   "id": "216b7cfe",
   "metadata": {},
   "outputs": [
    {
     "name": "stdout",
     "output_type": "stream",
     "text": [
      "Requirement already satisfied: cvzone in c:\\mechanical\\python anconda\\lib\\site-packages (1.5.6)Note: you may need to restart the kernel to use updated packages.\n",
      "\n",
      "Requirement already satisfied: opencv-python in c:\\mechanical\\python anconda\\lib\\site-packages (from cvzone) (4.7.0.72)\n",
      "Requirement already satisfied: numpy in c:\\mechanical\\python anconda\\lib\\site-packages (from cvzone) (1.23.5)\n"
     ]
    }
   ],
   "source": [
    "pip install cvzone"
   ]
  },
  {
   "cell_type": "code",
   "execution_count": 2,
   "id": "8226a69c",
   "metadata": {},
   "outputs": [
    {
     "name": "stdout",
     "output_type": "stream",
     "text": [
      "Requirement already satisfied: pyautogui in c:\\mechanical\\python anconda\\lib\\site-packages (0.9.54)\n",
      "Requirement already satisfied: mouseinfo in c:\\mechanical\\python anconda\\lib\\site-packages (from pyautogui) (0.1.3)\n",
      "Requirement already satisfied: pymsgbox in c:\\mechanical\\python anconda\\lib\\site-packages (from pyautogui) (1.0.9)\n",
      "Requirement already satisfied: pytweening>=1.0.4 in c:\\mechanical\\python anconda\\lib\\site-packages (from pyautogui) (1.0.7)\n",
      "Requirement already satisfied: pygetwindow>=0.0.5 in c:\\mechanical\\python anconda\\lib\\site-packages (from pyautogui) (0.0.9)\n",
      "Requirement already satisfied: pyscreeze>=0.1.21 in c:\\mechanical\\python anconda\\lib\\site-packages (from pyautogui) (0.1.29)\n",
      "Requirement already satisfied: pyrect in c:\\mechanical\\python anconda\\lib\\site-packages (from pygetwindow>=0.0.5->pyautogui) (0.2.0)\n",
      "Requirement already satisfied: Pillow>=9.2.0 in c:\\mechanical\\python anconda\\lib\\site-packages (from pyscreeze>=0.1.21->pyautogui) (9.2.0)\n",
      "Requirement already satisfied: pyscreenshot in c:\\mechanical\\python anconda\\lib\\site-packages (from pyscreeze>=0.1.21->pyautogui) (3.1)\n",
      "Requirement already satisfied: pyperclip in c:\\mechanical\\python anconda\\lib\\site-packages (from mouseinfo->pyautogui) (1.8.2)\n",
      "Requirement already satisfied: entrypoint2 in c:\\mechanical\\python anconda\\lib\\site-packages (from pyscreenshot->pyscreeze>=0.1.21->pyautogui) (1.1)\n",
      "Requirement already satisfied: EasyProcess in c:\\mechanical\\python anconda\\lib\\site-packages (from pyscreenshot->pyscreeze>=0.1.21->pyautogui) (1.1)\n",
      "Requirement already satisfied: mss in c:\\mechanical\\python anconda\\lib\\site-packages (from pyscreenshot->pyscreeze>=0.1.21->pyautogui) (9.0.1)\n",
      "Note: you may need to restart the kernel to use updated packages.\n"
     ]
    }
   ],
   "source": [
    "pip install pyautogui"
   ]
  },
  {
   "cell_type": "code",
   "execution_count": null,
   "id": "478ee41e",
   "metadata": {},
   "outputs": [],
   "source": [
    "import cv2\n",
    "\n",
    "import numpy as np\n",
    "from cvzone.HandTrackingModule import HandDetector\n",
    "import pyautogui\n",
    "\n",
    "detector = HandDetector(detectionCon=0.8)\n",
    "min_volume = 0\n",
    "max_volume = 100\n",
    "cap = cv2.VideoCapture(0)\n",
    "while True:\n",
    "    success, frame = cap.read()\n",
    "    if not success:\n",
    "        break\n",
    "    frame = cv2.flip(frame, 1)\n",
    "    hands, frame = detector.findHands(frame)\n",
    "    if hands:\n",
    "        for hand in hands:\n",
    "            landmarks = hand[\"lmList\"]\n",
    "            bbox = hand[\"bbox\"]\n",
    "            thumb_tip = landmarks[4]\n",
    "            index_tip = landmarks[8]\n",
    "            thumb_index_distance = np.linalg.norm(np.subtract(thumb_tip, index_tip))\n",
    "            volume = np.interp(thumb_index_distance, [20, 200], [min_volume, max_volume])\n",
    "            volume = int(max(min(volume, max_volume), min_volume))\n",
    "            pyautogui.press('volumedown') if volume < 50 else pyautogui.press('volumeup')\n",
    "            cv2.putText(frame, f\"Volume: {volume}%\", (bbox[0], bbox[1] - 20),\n",
    "                        cv2.FONT_HERSHEY_PLAIN, 1, (255, 0, 0), 2)\n",
    "    cv2.imshow(\"Volume Control\", frame)\n",
    "    if cv2.waitKey(1) & 0xFF == ord('q'):\n",
    "        break\n",
    "cap.release()\n",
    "cv2.destroyAllWindows()"
   ]
  }
 ],
 "metadata": {
  "kernelspec": {
   "display_name": "Python 3 (ipykernel)",
   "language": "python",
   "name": "python3"
  },
  "language_info": {
   "codemirror_mode": {
    "name": "ipython",
    "version": 3
   },
   "file_extension": ".py",
   "mimetype": "text/x-python",
   "name": "python",
   "nbconvert_exporter": "python",
   "pygments_lexer": "ipython3",
   "version": "3.9.13"
  }
 },
 "nbformat": 4,
 "nbformat_minor": 5
}
